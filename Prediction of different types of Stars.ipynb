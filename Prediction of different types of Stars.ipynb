{
 "cells": [
  {
   "cell_type": "code",
   "execution_count": 1,
   "id": "1f2f66bd",
   "metadata": {},
   "outputs": [
    {
     "name": "stdout",
     "output_type": "stream",
     "text": [
      "     Temperature              L          R    A_M  Color Spectral_Class  Type\n",
      "0           3068       0.002400     0.1700  16.12    Red              M     0\n",
      "1           3042       0.000500     0.1542  16.60    Red              M     0\n",
      "2           2600       0.000300     0.1020  18.70    Red              M     0\n",
      "3           2800       0.000200     0.1600  16.65    Red              M     0\n",
      "4           1939       0.000138     0.1030  20.06    Red              M     0\n",
      "..           ...            ...        ...    ...    ...            ...   ...\n",
      "235        38940  374830.000000  1356.0000  -9.93   Blue              O     5\n",
      "236        30839  834042.000000  1194.0000 -10.63   Blue              O     5\n",
      "237         8829  537493.000000  1423.0000 -10.73  White              A     5\n",
      "238         9235  404940.000000  1112.0000 -11.23  White              A     5\n",
      "239        37882  294903.000000  1783.0000  -7.80   Blue              O     5\n",
      "\n",
      "[240 rows x 7 columns]\n"
     ]
    }
   ],
   "source": [
    "import pandas as pd  #STANDARD LIBRARY PANDAS \n",
    "path=\"C:\\\\Users\\\\MONICA P\\\\OneDrive\\\\Desktop\\\\KTS INTERNSHIP\\\\Data\\\\Data\\\\Stars.csv\"\n",
    "data=pd.read_csv(path)\n",
    "print(data)"
   ]
  },
  {
   "cell_type": "code",
   "execution_count": 2,
   "id": "fb314550",
   "metadata": {},
   "outputs": [
    {
     "name": "stdout",
     "output_type": "stream",
     "text": [
      "Temperature       0\n",
      "L                 0\n",
      "R                 0\n",
      "A_M               0\n",
      "Color             0\n",
      "Spectral_Class    0\n",
      "Type              0\n",
      "dtype: int64\n"
     ]
    }
   ],
   "source": [
    "print(data.isnull().sum())"
   ]
  },
  {
   "cell_type": "code",
   "execution_count": 3,
   "id": "0b3dd0a4",
   "metadata": {},
   "outputs": [
    {
     "name": "stdout",
     "output_type": "stream",
     "text": [
      "<class 'pandas.core.frame.DataFrame'>\n",
      "RangeIndex: 240 entries, 0 to 239\n",
      "Data columns (total 7 columns):\n",
      " #   Column          Non-Null Count  Dtype  \n",
      "---  ------          --------------  -----  \n",
      " 0   Temperature     240 non-null    int64  \n",
      " 1   L               240 non-null    float64\n",
      " 2   R               240 non-null    float64\n",
      " 3   A_M             240 non-null    float64\n",
      " 4   Color           240 non-null    object \n",
      " 5   Spectral_Class  240 non-null    object \n",
      " 6   Type            240 non-null    int64  \n",
      "dtypes: float64(3), int64(2), object(2)\n",
      "memory usage: 13.2+ KB\n",
      "None\n"
     ]
    }
   ],
   "source": [
    "print(data.info())"
   ]
  },
  {
   "cell_type": "code",
   "execution_count": 4,
   "id": "c3a6f4fb",
   "metadata": {},
   "outputs": [],
   "source": [
    "import sklearn  #STANDARD LIBRARY SKLEARN\n",
    "from sklearn.preprocessing import LabelEncoder"
   ]
  },
  {
   "cell_type": "code",
   "execution_count": 5,
   "id": "725f34a8",
   "metadata": {},
   "outputs": [],
   "source": [
    "#transform and create new column\n",
    "le_Color=LabelEncoder()\n",
    "le_Spectral_class=LabelEncoder()"
   ]
  },
  {
   "cell_type": "code",
   "execution_count": 6,
   "id": "85e8cfe5",
   "metadata": {},
   "outputs": [
    {
     "name": "stdout",
     "output_type": "stream",
     "text": [
      "0      8\n",
      "1      8\n",
      "2      8\n",
      "3      8\n",
      "4      8\n",
      "      ..\n",
      "235    0\n",
      "236    0\n",
      "237    9\n",
      "238    9\n",
      "239    0\n",
      "Name: color_n, Length: 240, dtype: int32\n",
      "0      5\n",
      "1      5\n",
      "2      5\n",
      "3      5\n",
      "4      5\n",
      "      ..\n",
      "235    6\n",
      "236    6\n",
      "237    0\n",
      "238    0\n",
      "239    6\n",
      "Name: Spectral_class_n, Length: 240, dtype: int32\n"
     ]
    }
   ],
   "source": [
    "data['color_n']=le_Color.fit_transform(data['Color'])\n",
    "data['Spectral_class_n']=le_Spectral_class.fit_transform(data['Spectral_Class'])\n",
    "print(data['color_n'])\n",
    "print(data['Spectral_class_n'])"
   ]
  },
  {
   "cell_type": "code",
   "execution_count": 13,
   "id": "c0f6375f",
   "metadata": {},
   "outputs": [],
   "source": [
    "#Segregating inputs and output\n",
    "inputs=data.drop(['Color','Spectral_Class','Type'],'columns')\n",
    "output=data.drop(['Temperature','L','R','A_M','Color','Spectral_Class','color_n','Spectral_class_n'],'columns')"
   ]
  },
  {
   "cell_type": "code",
   "execution_count": 10,
   "id": "ac2598ce",
   "metadata": {},
   "outputs": [
    {
     "name": "stdout",
     "output_type": "stream",
     "text": [
      "     Temperature              L          R    A_M  color_n  Spectral_class_n\n",
      "0           3068       0.002400     0.1700  16.12        8                 5\n",
      "1           3042       0.000500     0.1542  16.60        8                 5\n",
      "2           2600       0.000300     0.1020  18.70        8                 5\n",
      "3           2800       0.000200     0.1600  16.65        8                 5\n",
      "4           1939       0.000138     0.1030  20.06        8                 5\n",
      "..           ...            ...        ...    ...      ...               ...\n",
      "235        38940  374830.000000  1356.0000  -9.93        0                 6\n",
      "236        30839  834042.000000  1194.0000 -10.63        0                 6\n",
      "237         8829  537493.000000  1423.0000 -10.73        9                 0\n",
      "238         9235  404940.000000  1112.0000 -11.23        9                 0\n",
      "239        37882  294903.000000  1783.0000  -7.80        0                 6\n",
      "\n",
      "[240 rows x 6 columns]\n",
      "     Type\n",
      "0       0\n",
      "1       0\n",
      "2       0\n",
      "3       0\n",
      "4       0\n",
      "..    ...\n",
      "235     5\n",
      "236     5\n",
      "237     5\n",
      "238     5\n",
      "239     5\n",
      "\n",
      "[240 rows x 1 columns]\n"
     ]
    }
   ],
   "source": [
    "#print inputs and output\n",
    "print(inputs)\n",
    "print(output)"
   ]
  },
  {
   "cell_type": "code",
   "execution_count": 11,
   "id": "d30be09b",
   "metadata": {},
   "outputs": [],
   "source": [
    "#Testing and Training \n",
    "from sklearn.model_selection import train_test_split\n",
    "x_train,x_test,y_train,y_test=train_test_split(inputs,output,train_size=0.8)"
   ]
  },
  {
   "cell_type": "code",
   "execution_count": 12,
   "id": "5576dc53",
   "metadata": {},
   "outputs": [
    {
     "name": "stdout",
     "output_type": "stream",
     "text": [
      "x_train      Temperature             L           R    A_M  color_n  Spectral_class_n\n",
      "88         13720       0.00018     0.00892  12.97       14                 2\n",
      "80          7100       0.00029     0.01200  14.09       10                 2\n",
      "98         12098     689.00000     7.01000   0.02        4                 0\n",
      "68          2774       0.00036     0.11800  17.39        8                 5\n",
      "210        22350   12450.00000     6.36000  -3.67        4                 1\n",
      "..           ...           ...         ...    ...      ...               ...\n",
      "64          2935       0.00014     0.11600  18.89        8                 5\n",
      "143        14520       0.00082     0.00972  11.92        1                 1\n",
      "56          3660  363000.00000  1673.00000 -11.92        8                 5\n",
      "7           2600       0.00040     0.09600  17.40        8                 5\n",
      "76          2890       0.00340     0.24000  13.46        8                 5\n",
      "\n",
      "[192 rows x 6 columns]\n",
      "x_test      Temperature              L           R     A_M  color_n  Spectral_class_n\n",
      "109        33421  352000.000000    67.00000  -5.790        0                 6\n",
      "71          3607       0.022000     0.38000  10.120        8                 5\n",
      "239        37882  294903.000000  1783.00000  -7.800        0                 6\n",
      "59          3535  195000.000000  1546.00000 -11.360        8                 5\n",
      "190         3462       0.005300     0.14800  11.470        8                 5\n",
      "69          2871       0.000720     0.12000  19.430        8                 5\n",
      "38          5936       1.357000     1.10600   4.460       15                 2\n",
      "139         3541       0.001300     0.25600  14.330        8                 5\n",
      "222         9383  342940.000000    98.00000  -6.980        0                 6\n",
      "73          3150       0.008800     0.35000  11.940        8                 5\n",
      "208        17920       0.001110     0.01060  11.660        0                 1\n",
      "105        14245  231000.000000    42.00000  -6.120        0                 6\n",
      "90          5300       0.590000     0.91000   5.490       15                 2\n",
      "227        10930  783930.000000    25.00000  -6.224        0                 6\n",
      "224        16787  246730.000000    62.00000  -6.350        0                 6\n",
      "118         6850  229000.000000  1467.00000 -10.070        8                 3\n",
      "2           2600       0.000300     0.10200  18.700        8                 5\n",
      "63          2835       0.000340     0.09180  16.960        8                 5\n",
      "126         2935       0.000870     0.09320  16.880        8                 5\n",
      "60          3341       0.005600     0.05700  16.230        8                 5\n",
      "149        12984       0.000880     0.00996  11.230        1                 1\n",
      "186         2968       0.000461     0.11900  17.450        8                 5\n",
      "65          3295       0.000980     0.13200  17.130        8                 5\n",
      "229        21738  748890.000000    92.00000  -7.346        0                 6\n",
      "41          3365  340000.000000    23.00000  -6.200        8                 5\n",
      "146        12912       0.000710     0.00945  12.830        2                 1\n",
      "133         2989       0.008700     0.34000  13.120        8                 5\n",
      "85          9675       0.000450     0.01090  13.980        1                 0\n",
      "140        13420       0.000590     0.00981  13.670        1                 1\n",
      "172         4287  630000.000000  1315.00000  -9.200        5                 4\n",
      "201        15680       0.001220     0.01140  11.920        0                 1\n",
      "58          3752  209000.000000   955.00000 -11.240        8                 5\n",
      "24         16500       0.013000     0.01400  11.890        1                 1\n",
      "206        24020       0.001590     0.01270  10.550        0                 1\n",
      "19          3441       0.039000     0.35100  11.180        8                 5\n",
      "100        33300  240000.000000    12.00000  -6.500        0                 1\n",
      "187         3484       0.000551     0.09980  16.670        8                 5\n",
      "228        23095  347820.000000    86.00000  -5.905        0                 6\n",
      "200        16790       0.001400     0.01210  12.870        0                 1\n",
      "110         3459  100000.000000  1289.00000 -10.700        8                 5\n",
      "34          5800       0.810000     0.90000   5.050       15                 2\n",
      "169         9373  424520.000000    24.00000  -5.990        0                 6\n",
      "151         8945      38.000000     2.48700   0.120        3                 0\n",
      "106        24630  363000.000000    63.00000  -5.830        0                 6\n",
      "157        20120    4720.000000     6.78000  -3.400        4                 1\n",
      "55          3450  263000.000000  1349.00000 -11.750        8                 5\n",
      "44          3008  280000.000000    25.00000  -6.000        8                 5\n",
      "165         7282  131000.000000    24.00000  -7.220        0                 6\n",
      "y_train      Type\n",
      "88      2\n",
      "80      2\n",
      "98      3\n",
      "68      0\n",
      "210     3\n",
      "..    ...\n",
      "64      0\n",
      "143     2\n",
      "56      5\n",
      "7       0\n",
      "76      1\n",
      "\n",
      "[192 rows x 1 columns]\n",
      "y_test      Type\n",
      "109     4\n",
      "71      1\n",
      "239     5\n",
      "59      5\n",
      "190     1\n",
      "69      0\n",
      "38      3\n",
      "139     1\n",
      "222     4\n",
      "73      1\n",
      "208     2\n",
      "105     4\n",
      "90      3\n",
      "227     4\n",
      "224     4\n",
      "118     5\n",
      "2       0\n",
      "63      0\n",
      "126     0\n",
      "60      0\n",
      "149     2\n",
      "186     0\n",
      "65      0\n",
      "229     4\n",
      "41      4\n",
      "146     2\n",
      "133     1\n",
      "85      2\n",
      "140     2\n",
      "172     5\n",
      "201     2\n",
      "58      5\n",
      "24      2\n",
      "206     2\n",
      "19      1\n",
      "100     4\n",
      "187     0\n",
      "228     4\n",
      "200     2\n",
      "110     5\n",
      "34      3\n",
      "169     4\n",
      "151     3\n",
      "106     4\n",
      "157     3\n",
      "55      5\n",
      "44      4\n",
      "165     4\n"
     ]
    }
   ],
   "source": [
    "#print x_train,x_test,y_train,y_test\n",
    "print(\"x_train\",x_train)\n",
    "print(\"x_test\",x_test)\n",
    "print(\"y_train\",y_train)\n",
    "print(\"y_test\",y_test)"
   ]
  },
  {
   "cell_type": "code",
   "execution_count": 13,
   "id": "f8a37f65",
   "metadata": {},
   "outputs": [
    {
     "name": "stderr",
     "output_type": "stream",
     "text": [
      "C:\\ProgramData\\Anaconda3\\lib\\site-packages\\sklearn\\utils\\validation.py:63: DataConversionWarning: A column-vector y was passed when a 1d array was expected. Please change the shape of y to (n_samples, ), for example using ravel().\n",
      "  return f(*args, **kwargs)\n",
      "C:\\ProgramData\\Anaconda3\\lib\\site-packages\\sklearn\\linear_model\\_logistic.py:763: ConvergenceWarning: lbfgs failed to converge (status=1):\n",
      "STOP: TOTAL NO. of ITERATIONS REACHED LIMIT.\n",
      "\n",
      "Increase the number of iterations (max_iter) or scale the data as shown in:\n",
      "    https://scikit-learn.org/stable/modules/preprocessing.html\n",
      "Please also refer to the documentation for alternative solver options:\n",
      "    https://scikit-learn.org/stable/modules/linear_model.html#logistic-regression\n",
      "  n_iter_i = _check_optimize_result(\n"
     ]
    },
    {
     "data": {
      "text/plain": [
       "LogisticRegression()"
      ]
     },
     "execution_count": 13,
     "metadata": {},
     "output_type": "execute_result"
    }
   ],
   "source": [
    "#applying the MACHINE LEARNING ALGORITHM[LogisticRegression]\n",
    "from sklearn.linear_model import LogisticRegression\n",
    "model=LogisticRegression()\n",
    "model.fit(x_train,y_train)"
   ]
  },
  {
   "cell_type": "code",
   "execution_count": 14,
   "id": "017b2c24",
   "metadata": {},
   "outputs": [
    {
     "name": "stdout",
     "output_type": "stream",
     "text": [
      "[4 2 5 5 2 2 2 2 4 2 2 4 2 4 4 5 2 2 2 2 2 2 2 4 4 2 2 2 2 5 2 5 2 2 2 4 2\n",
      " 4 2 5 2 4 2 4 3 5 4 4]\n",
      "     Type\n",
      "109     4\n",
      "71      1\n",
      "239     5\n",
      "59      5\n",
      "190     1\n",
      "69      0\n",
      "38      3\n",
      "139     1\n",
      "222     4\n",
      "73      1\n",
      "208     2\n",
      "105     4\n",
      "90      3\n",
      "227     4\n",
      "224     4\n",
      "118     5\n",
      "2       0\n",
      "63      0\n",
      "126     0\n",
      "60      0\n",
      "149     2\n",
      "186     0\n",
      "65      0\n",
      "229     4\n",
      "41      4\n",
      "146     2\n",
      "133     1\n",
      "85      2\n",
      "140     2\n",
      "172     5\n",
      "201     2\n",
      "58      5\n",
      "24      2\n",
      "206     2\n",
      "19      1\n",
      "100     4\n",
      "187     0\n",
      "228     4\n",
      "200     2\n",
      "110     5\n",
      "34      3\n",
      "169     4\n",
      "151     3\n",
      "106     4\n",
      "157     3\n",
      "55      5\n",
      "44      4\n",
      "165     4\n"
     ]
    }
   ],
   "source": [
    "y_pred=model.predict(x_test)\n",
    "print(y_pred) \n",
    "print(y_test)"
   ]
  },
  {
   "cell_type": "code",
   "execution_count": 15,
   "id": "6379f8eb",
   "metadata": {},
   "outputs": [
    {
     "name": "stdout",
     "output_type": "stream",
     "text": [
      "[[ 0  0  8  0  0  0]\n",
      " [ 0  0  6  0  0  0]\n",
      " [ 0  0  9  0  0  0]\n",
      " [ 0  0  4  1  0  0]\n",
      " [ 0  0  0  0 13  0]\n",
      " [ 0  0  0  0  0  7]]\n"
     ]
    }
   ],
   "source": [
    "#CREATING THE CONFUSION MATRIX\n",
    "from sklearn.metrics import confusion_matrix\n",
    "cm=confusion_matrix(y_test,y_pred)\n",
    "print(cm)"
   ]
  },
  {
   "cell_type": "code",
   "execution_count": 16,
   "id": "040b4e60",
   "metadata": {},
   "outputs": [
    {
     "name": "stdout",
     "output_type": "stream",
     "text": [
      "62.5\n"
     ]
    }
   ],
   "source": [
    "#CALUCLATING ACCURACY\n",
    "from sklearn.metrics import accuracy_score   \n",
    "acc=(accuracy_score(y_test,y_pred)*100)\n",
    "print(acc)"
   ]
  },
  {
   "cell_type": "code",
   "execution_count": 18,
   "id": "f691c6c8",
   "metadata": {},
   "outputs": [
    {
     "name": "stdout",
     "output_type": "stream",
     "text": [
      "enter the Temp:13780\n",
      "enter the L:0.000500\n",
      "enter the R:0.1700\n",
      "enter the A_M:16.12\n",
      "enter the color:8\n",
      "enter the Spectral_class:5\n",
      "[2]\n",
      "White Dwarf\n"
     ]
    },
    {
     "name": "stderr",
     "output_type": "stream",
     "text": [
      "C:\\ProgramData\\Anaconda3\\lib\\site-packages\\sklearn\\utils\\validation.py:63: FutureWarning: Arrays of bytes/strings is being converted to decimal numbers if dtype='numeric'. This behavior is deprecated in 0.24 and will be removed in 1.1 (renaming of 0.26). Please convert your data to numeric values explicitly instead.\n",
      "  return f(*args, **kwargs)\n"
     ]
    }
   ],
   "source": [
    "#TAKING THE INPUTS AND PRINTING THE RESULT\n",
    "Temperature=input(\"enter the Temp:\")\n",
    "L=input(\"enter the L:\")\n",
    "R=input(\"enter the R:\")\n",
    "A_M=input(\"enter the A_M:\")\n",
    "Color=input(\"enter the color:\")\n",
    "Spectral_Class=input(\"enter the Spectral_class:\")\n",
    "res=model.predict([[Temperature,L,R,A_M,Color,Spectral_Class]])\n",
    "print(res)\n",
    "if res==0:\n",
    "    print(\"Red Dwarf\")\n",
    "elif res==1:\n",
    "    print(\"Brown Dwarf\")\n",
    "elif res==2:\n",
    "    print(\"White Dwarf\")\n",
    "elif res==3:\n",
    "    print(\"Main Sequence\")\n",
    "elif res==4:\n",
    "    print(\"Super Gaints\")\n",
    "elif res==5:\n",
    "    print(\"Hyper Gaints\")\n",
    "else:\n",
    "    print(\"Invalid Data\")"
   ]
  }
 ],
 "metadata": {
  "kernelspec": {
   "display_name": "Python 3",
   "language": "python",
   "name": "python3"
  },
  "language_info": {
   "codemirror_mode": {
    "name": "ipython",
    "version": 3
   },
   "file_extension": ".py",
   "mimetype": "text/x-python",
   "name": "python",
   "nbconvert_exporter": "python",
   "pygments_lexer": "ipython3",
   "version": "3.8.8"
  }
 },
 "nbformat": 4,
 "nbformat_minor": 5
}
